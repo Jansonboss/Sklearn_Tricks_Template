{
  "nbformat": 4,
  "nbformat_minor": 2,
  "metadata": {
    "colab": {
      "name": "ML lab Final Project.ipynb",
      "provenance": [],
      "collapsed_sections": [],
      "toc_visible": true,
      "include_colab_link": true
    },
    "kernelspec": {
      "display_name": "Python 3",
      "language": "python",
      "name": "python3"
    },
    "language_info": {
      "codemirror_mode": {
        "name": "ipython",
        "version": 3
      },
      "file_extension": ".py",
      "mimetype": "text/x-python",
      "name": "python",
      "nbconvert_exporter": "python",
      "pygments_lexer": "ipython3",
      "version": "3.8.5"
    },
    "widgets": {
      "application/vnd.jupyter.widget-state+json": {
        "3e715d9feaf944ee981ceba656745bd1": {
          "model_module": "@jupyter-widgets/controls",
          "model_name": "HBoxModel",
          "state": {
            "_dom_classes": [],
            "_model_module": "@jupyter-widgets/controls",
            "_model_module_version": "1.5.0",
            "_model_name": "HBoxModel",
            "_view_count": null,
            "_view_module": "@jupyter-widgets/controls",
            "_view_module_version": "1.5.0",
            "_view_name": "HBoxView",
            "box_style": "",
            "children": [
              "IPY_MODEL_222967b5431a4af89546e2257a42bdb9",
              "IPY_MODEL_e0cdc2c6b369430cbef422e04e6b0e6a"
            ],
            "layout": "IPY_MODEL_0c9317917e994313a3bb5f92f51f9ad2"
          }
        },
        "222967b5431a4af89546e2257a42bdb9": {
          "model_module": "@jupyter-widgets/controls",
          "model_name": "FloatProgressModel",
          "state": {
            "_dom_classes": [],
            "_model_module": "@jupyter-widgets/controls",
            "_model_module_version": "1.5.0",
            "_model_name": "FloatProgressModel",
            "_view_count": null,
            "_view_module": "@jupyter-widgets/controls",
            "_view_module_version": "1.5.0",
            "_view_name": "ProgressView",
            "bar_style": "success",
            "description": "100%",
            "description_tooltip": null,
            "layout": "IPY_MODEL_5714c1a1880c4ff4ad661d40efe9aa26",
            "max": 50,
            "min": 0,
            "orientation": "horizontal",
            "style": "IPY_MODEL_f1ee012b217f496d90201f823f53a1a3",
            "value": 50
          }
        },
        "e0cdc2c6b369430cbef422e04e6b0e6a": {
          "model_module": "@jupyter-widgets/controls",
          "model_name": "HTMLModel",
          "state": {
            "_dom_classes": [],
            "_model_module": "@jupyter-widgets/controls",
            "_model_module_version": "1.5.0",
            "_model_name": "HTMLModel",
            "_view_count": null,
            "_view_module": "@jupyter-widgets/controls",
            "_view_module_version": "1.5.0",
            "_view_name": "HTMLView",
            "description": "",
            "description_tooltip": null,
            "layout": "IPY_MODEL_b5d487d470e348a69704fe6f59599d77",
            "placeholder": "​",
            "style": "IPY_MODEL_afc1ad477201479c9177db817cf5dcbf",
            "value": " 50/50 [02:31&lt;00:00,  3.03s/it]"
          }
        },
        "0c9317917e994313a3bb5f92f51f9ad2": {
          "model_module": "@jupyter-widgets/base",
          "model_name": "LayoutModel",
          "state": {
            "_model_module": "@jupyter-widgets/base",
            "_model_module_version": "1.2.0",
            "_model_name": "LayoutModel",
            "_view_count": null,
            "_view_module": "@jupyter-widgets/base",
            "_view_module_version": "1.2.0",
            "_view_name": "LayoutView",
            "align_content": null,
            "align_items": null,
            "align_self": null,
            "border": null,
            "bottom": null,
            "display": null,
            "flex": null,
            "flex_flow": null,
            "grid_area": null,
            "grid_auto_columns": null,
            "grid_auto_flow": null,
            "grid_auto_rows": null,
            "grid_column": null,
            "grid_gap": null,
            "grid_row": null,
            "grid_template_areas": null,
            "grid_template_columns": null,
            "grid_template_rows": null,
            "height": null,
            "justify_content": null,
            "justify_items": null,
            "left": null,
            "margin": null,
            "max_height": null,
            "max_width": null,
            "min_height": null,
            "min_width": null,
            "object_fit": null,
            "object_position": null,
            "order": null,
            "overflow": null,
            "overflow_x": null,
            "overflow_y": null,
            "padding": null,
            "right": null,
            "top": null,
            "visibility": null,
            "width": null
          }
        },
        "5714c1a1880c4ff4ad661d40efe9aa26": {
          "model_module": "@jupyter-widgets/base",
          "model_name": "LayoutModel",
          "state": {
            "_model_module": "@jupyter-widgets/base",
            "_model_module_version": "1.2.0",
            "_model_name": "LayoutModel",
            "_view_count": null,
            "_view_module": "@jupyter-widgets/base",
            "_view_module_version": "1.2.0",
            "_view_name": "LayoutView",
            "align_content": null,
            "align_items": null,
            "align_self": null,
            "border": null,
            "bottom": null,
            "display": null,
            "flex": null,
            "flex_flow": null,
            "grid_area": null,
            "grid_auto_columns": null,
            "grid_auto_flow": null,
            "grid_auto_rows": null,
            "grid_column": null,
            "grid_gap": null,
            "grid_row": null,
            "grid_template_areas": null,
            "grid_template_columns": null,
            "grid_template_rows": null,
            "height": null,
            "justify_content": null,
            "justify_items": null,
            "left": null,
            "margin": null,
            "max_height": null,
            "max_width": null,
            "min_height": null,
            "min_width": null,
            "object_fit": null,
            "object_position": null,
            "order": null,
            "overflow": null,
            "overflow_x": null,
            "overflow_y": null,
            "padding": null,
            "right": null,
            "top": null,
            "visibility": null,
            "width": null
          }
        },
        "f1ee012b217f496d90201f823f53a1a3": {
          "model_module": "@jupyter-widgets/controls",
          "model_name": "ProgressStyleModel",
          "state": {
            "_model_module": "@jupyter-widgets/controls",
            "_model_module_version": "1.5.0",
            "_model_name": "ProgressStyleModel",
            "_view_count": null,
            "_view_module": "@jupyter-widgets/base",
            "_view_module_version": "1.2.0",
            "_view_name": "StyleView",
            "bar_color": null,
            "description_width": "initial"
          }
        },
        "b5d487d470e348a69704fe6f59599d77": {
          "model_module": "@jupyter-widgets/base",
          "model_name": "LayoutModel",
          "state": {
            "_model_module": "@jupyter-widgets/base",
            "_model_module_version": "1.2.0",
            "_model_name": "LayoutModel",
            "_view_count": null,
            "_view_module": "@jupyter-widgets/base",
            "_view_module_version": "1.2.0",
            "_view_name": "LayoutView",
            "align_content": null,
            "align_items": null,
            "align_self": null,
            "border": null,
            "bottom": null,
            "display": null,
            "flex": null,
            "flex_flow": null,
            "grid_area": null,
            "grid_auto_columns": null,
            "grid_auto_flow": null,
            "grid_auto_rows": null,
            "grid_column": null,
            "grid_gap": null,
            "grid_row": null,
            "grid_template_areas": null,
            "grid_template_columns": null,
            "grid_template_rows": null,
            "height": null,
            "justify_content": null,
            "justify_items": null,
            "left": null,
            "margin": null,
            "max_height": null,
            "max_width": null,
            "min_height": null,
            "min_width": null,
            "object_fit": null,
            "object_position": null,
            "order": null,
            "overflow": null,
            "overflow_x": null,
            "overflow_y": null,
            "padding": null,
            "right": null,
            "top": null,
            "visibility": null,
            "width": null
          }
        },
        "afc1ad477201479c9177db817cf5dcbf": {
          "model_module": "@jupyter-widgets/controls",
          "model_name": "DescriptionStyleModel",
          "state": {
            "_model_module": "@jupyter-widgets/controls",
            "_model_module_version": "1.5.0",
            "_model_name": "DescriptionStyleModel",
            "_view_count": null,
            "_view_module": "@jupyter-widgets/base",
            "_view_module_version": "1.2.0",
            "_view_name": "StyleView",
            "description_width": ""
          }
        }
      }
    }
  },
  "cells": [
    {
      "cell_type": "markdown",
      "source": [
        "<a href=\"https://colab.research.google.com/github/AlexLZM/ML-lab-Final-Project/blob/main/ML_lab_Final_Project_.ipynb\" target=\"_parent\"><img src=\"https://colab.research.google.com/assets/colab-badge.svg\" alt=\"Open In Colab\"/></a>"
      ],
      "metadata": {
        "id": "view-in-github",
        "colab_type": "text"
      }
    },
    {
      "cell_type": "code",
      "execution_count": null,
      "source": [
        "import numpy as np\n",
        "import pandas as pd\n",
        "import sklearn\n",
        "from sklearn.base import BaseEstimator\n",
        "from sklearn.compose import *\n",
        "from sklearn.experimental import enable_hist_gradient_boosting, enable_iterative_imputer\n",
        "from sklearn.ensemble import (\n",
        "    AdaBoostClassifier,\n",
        "    GradientBoostingClassifier,\n",
        "    HistGradientBoostingClassifier,\n",
        "    RandomForestClassifier,\n",
        "    StackingClassifier,\n",
        "    VotingClassifier,\n",
        ")\n",
        "from sklearn.impute import *\n",
        "from sklearn.inspection import permutation_importance\n",
        "from sklearn.metrics import *\n",
        "from sklearn.model_selection import *\n",
        "from sklearn.pipeline import Pipeline\n",
        "from sklearn.preprocessing import *\n",
        "!pip install optuna\n",
        "import optuna\n",
        "\n",
        "class DummyEstimator(BaseEstimator):\n",
        "    def fit(self): pass\n",
        "    def score(self): pass"
      ],
      "outputs": [
        {
          "output_type": "stream",
          "name": "stdout",
          "text": [
            "Collecting optuna\n",
            "\u001b[?25l  Downloading https://files.pythonhosted.org/packages/50/67/ed0af7c66bcfb9a9a56fbafcca7d848452d78433208b59b003741879cc69/optuna-2.6.0-py3-none-any.whl (293kB)\n",
            "\r\u001b[K     |█▏                              | 10kB 13.9MB/s eta 0:00:01\r\u001b[K     |██▎                             | 20kB 10.9MB/s eta 0:00:01\r\u001b[K     |███▍                            | 30kB 10.5MB/s eta 0:00:01\r\u001b[K     |████▌                           | 40kB 8.5MB/s eta 0:00:01\r\u001b[K     |█████▋                          | 51kB 5.2MB/s eta 0:00:01\r\u001b[K     |██████▊                         | 61kB 5.5MB/s eta 0:00:01\r\u001b[K     |███████▉                        | 71kB 5.6MB/s eta 0:00:01\r\u001b[K     |█████████                       | 81kB 5.3MB/s eta 0:00:01\r\u001b[K     |██████████                      | 92kB 5.9MB/s eta 0:00:01\r\u001b[K     |███████████▏                    | 102kB 6.1MB/s eta 0:00:01\r\u001b[K     |████████████▎                   | 112kB 6.1MB/s eta 0:00:01\r\u001b[K     |█████████████▍                  | 122kB 6.1MB/s eta 0:00:01\r\u001b[K     |██████████████▌                 | 133kB 6.1MB/s eta 0:00:01\r\u001b[K     |███████████████▋                | 143kB 6.1MB/s eta 0:00:01\r\u001b[K     |████████████████▊               | 153kB 6.1MB/s eta 0:00:01\r\u001b[K     |█████████████████▉              | 163kB 6.1MB/s eta 0:00:01\r\u001b[K     |███████████████████             | 174kB 6.1MB/s eta 0:00:01\r\u001b[K     |████████████████████▏           | 184kB 6.1MB/s eta 0:00:01\r\u001b[K     |█████████████████████▎          | 194kB 6.1MB/s eta 0:00:01\r\u001b[K     |██████████████████████▍         | 204kB 6.1MB/s eta 0:00:01\r\u001b[K     |███████████████████████▌        | 215kB 6.1MB/s eta 0:00:01\r\u001b[K     |████████████████████████▋       | 225kB 6.1MB/s eta 0:00:01\r\u001b[K     |█████████████████████████▊      | 235kB 6.1MB/s eta 0:00:01\r\u001b[K     |██████████████████████████▉     | 245kB 6.1MB/s eta 0:00:01\r\u001b[K     |████████████████████████████    | 256kB 6.1MB/s eta 0:00:01\r\u001b[K     |█████████████████████████████   | 266kB 6.1MB/s eta 0:00:01\r\u001b[K     |██████████████████████████████▏ | 276kB 6.1MB/s eta 0:00:01\r\u001b[K     |███████████████████████████████▎| 286kB 6.1MB/s eta 0:00:01\r\u001b[K     |████████████████████████████████| 296kB 6.1MB/s \n",
            "\u001b[?25hCollecting colorlog\n",
            "  Downloading https://files.pythonhosted.org/packages/5e/39/0230290df0519d528d8d0ffdfd900150ed24e0076d13b1f19e279444aab1/colorlog-4.7.2-py2.py3-none-any.whl\n",
            "Collecting alembic\n",
            "\u001b[?25l  Downloading https://files.pythonhosted.org/packages/40/42/f73279458f33ccd1ece2285c577f6882e2c7ba80054a7518854576c452cd/alembic-1.5.6-py2.py3-none-any.whl (159kB)\n",
            "\u001b[K     |████████████████████████████████| 163kB 9.6MB/s \n",
            "\u001b[?25hRequirement already satisfied: sqlalchemy>=1.1.0 in /usr/local/lib/python3.7/dist-packages (from optuna) (1.3.23)\n",
            "Requirement already satisfied: tqdm in /usr/local/lib/python3.7/dist-packages (from optuna) (4.41.1)\n",
            "Requirement already satisfied: packaging>=20.0 in /usr/local/lib/python3.7/dist-packages (from optuna) (20.9)\n",
            "Collecting cliff\n",
            "\u001b[?25l  Downloading https://files.pythonhosted.org/packages/a2/d6/7d9acb68a77acd140be7fececb7f2701b2a29d2da9c54184cb8f93509590/cliff-3.7.0-py3-none-any.whl (80kB)\n",
            "\u001b[K     |████████████████████████████████| 81kB 5.4MB/s \n",
            "\u001b[?25hRequirement already satisfied: scipy!=1.4.0 in /usr/local/lib/python3.7/dist-packages (from optuna) (1.4.1)\n",
            "Requirement already satisfied: numpy<1.20.0 in /usr/local/lib/python3.7/dist-packages (from optuna) (1.19.5)\n",
            "Collecting cmaes>=0.8.2\n",
            "  Downloading https://files.pythonhosted.org/packages/01/1f/43b01223a0366171f474320c6e966c39a11587287f098a5f09809b45e05f/cmaes-0.8.2-py3-none-any.whl\n",
            "Collecting python-editor>=0.3\n",
            "  Downloading https://files.pythonhosted.org/packages/c6/d3/201fc3abe391bbae6606e6f1d598c15d367033332bd54352b12f35513717/python_editor-1.0.4-py3-none-any.whl\n",
            "Collecting Mako\n",
            "\u001b[?25l  Downloading https://files.pythonhosted.org/packages/f3/54/dbc07fbb20865d3b78fdb7cf7fa713e2cba4f87f71100074ef2dc9f9d1f7/Mako-1.1.4-py2.py3-none-any.whl (75kB)\n",
            "\u001b[K     |████████████████████████████████| 81kB 3.9MB/s \n",
            "\u001b[?25hRequirement already satisfied: python-dateutil in /usr/local/lib/python3.7/dist-packages (from alembic->optuna) (2.8.1)\n",
            "Requirement already satisfied: pyparsing>=2.0.2 in /usr/local/lib/python3.7/dist-packages (from packaging>=20.0->optuna) (2.4.7)\n",
            "Collecting pbr!=2.1.0,>=2.0.0\n",
            "\u001b[?25l  Downloading https://files.pythonhosted.org/packages/fb/48/69046506f6ac61c1eaa9a0d42d22d54673b69e176d30ca98e3f61513e980/pbr-5.5.1-py2.py3-none-any.whl (106kB)\n",
            "\u001b[K     |████████████████████████████████| 112kB 10.9MB/s \n",
            "\u001b[?25hCollecting stevedore>=2.0.1\n",
            "\u001b[?25l  Downloading https://files.pythonhosted.org/packages/d4/49/b602307aeac3df3384ff1fcd05da9c0376c622a6c48bb5325f28ab165b57/stevedore-3.3.0-py3-none-any.whl (49kB)\n",
            "\u001b[K     |████████████████████████████████| 51kB 4.5MB/s \n",
            "\u001b[?25hRequirement already satisfied: PrettyTable>=0.7.2 in /usr/local/lib/python3.7/dist-packages (from cliff->optuna) (2.1.0)\n",
            "Requirement already satisfied: PyYAML>=3.12 in /usr/local/lib/python3.7/dist-packages (from cliff->optuna) (3.13)\n",
            "Collecting cmd2>=1.0.0\n",
            "\u001b[?25l  Downloading https://files.pythonhosted.org/packages/15/8b/15061b32332bb35ea2a2f6263d0f616779d576e82739ec8e7fcf3c94abf5/cmd2-1.5.0-py3-none-any.whl (133kB)\n",
            "\u001b[K     |████████████████████████████████| 143kB 10.6MB/s \n",
            "\u001b[?25hRequirement already satisfied: MarkupSafe>=0.9.2 in /usr/local/lib/python3.7/dist-packages (from Mako->alembic->optuna) (1.1.1)\n",
            "Requirement already satisfied: six>=1.5 in /usr/local/lib/python3.7/dist-packages (from python-dateutil->alembic->optuna) (1.15.0)\n",
            "Requirement already satisfied: importlib-metadata>=1.7.0; python_version < \"3.8\" in /usr/local/lib/python3.7/dist-packages (from stevedore>=2.0.1->cliff->optuna) (3.7.0)\n",
            "Requirement already satisfied: wcwidth in /usr/local/lib/python3.7/dist-packages (from PrettyTable>=0.7.2->cliff->optuna) (0.2.5)\n",
            "Collecting colorama>=0.3.7\n",
            "  Downloading https://files.pythonhosted.org/packages/44/98/5b86278fbbf250d239ae0ecb724f8572af1c91f4a11edf4d36a206189440/colorama-0.4.4-py2.py3-none-any.whl\n",
            "Requirement already satisfied: attrs>=16.3.0 in /usr/local/lib/python3.7/dist-packages (from cmd2>=1.0.0->cliff->optuna) (20.3.0)\n",
            "Collecting pyperclip>=1.6\n",
            "  Downloading https://files.pythonhosted.org/packages/a7/2c/4c64579f847bd5d539803c8b909e54ba087a79d01bb3aba433a95879a6c5/pyperclip-1.8.2.tar.gz\n",
            "Requirement already satisfied: typing-extensions>=3.6.4; python_version < \"3.8\" in /usr/local/lib/python3.7/dist-packages (from importlib-metadata>=1.7.0; python_version < \"3.8\"->stevedore>=2.0.1->cliff->optuna) (3.7.4.3)\n",
            "Requirement already satisfied: zipp>=0.5 in /usr/local/lib/python3.7/dist-packages (from importlib-metadata>=1.7.0; python_version < \"3.8\"->stevedore>=2.0.1->cliff->optuna) (3.4.1)\n",
            "Building wheels for collected packages: pyperclip\n",
            "  Building wheel for pyperclip (setup.py) ... \u001b[?25l\u001b[?25hdone\n",
            "  Created wheel for pyperclip: filename=pyperclip-1.8.2-cp37-none-any.whl size=11107 sha256=73aef75ae178fdc9da0dee82f2b0b9a1dcab9e1273c48cca9cdb1efb5799d5f3\n",
            "  Stored in directory: /root/.cache/pip/wheels/25/af/b8/3407109267803f4015e1ee2ff23be0c8c19ce4008665931ee1\n",
            "Successfully built pyperclip\n",
            "Installing collected packages: colorlog, python-editor, Mako, alembic, pbr, stevedore, colorama, pyperclip, cmd2, cliff, cmaes, optuna\n",
            "Successfully installed Mako-1.1.4 alembic-1.5.6 cliff-3.7.0 cmaes-0.8.2 cmd2-1.5.0 colorama-0.4.4 colorlog-4.7.2 optuna-2.6.0 pbr-5.5.1 pyperclip-1.8.2 python-editor-1.0.4 stevedore-3.3.0\n"
          ]
        }
      ],
      "metadata": {
        "colab": {
          "base_uri": "https://localhost:8080/"
        },
        "id": "2a0R4EMGJeNz",
        "outputId": "accd0144-2aca-498f-f8f2-32971d179826"
      }
    },
    {
      "cell_type": "markdown",
      "source": [
        "# MSDS 699 Final Project\n",
        "\n",
        "\n",
        "\n",
        "## Modeling for Hear Disease Prediction\n",
        "\n",
        "\n",
        "\n",
        "\n",
        "## Student: Zhimin Lyu"
      ],
      "metadata": {
        "id": "z7slFm0MJeN1"
      }
    },
    {
      "cell_type": "markdown",
      "source": [
        "## Project description"
      ],
      "metadata": {
        "id": "d-L5ngOyJeN2"
      }
    },
    {
      "cell_type": "markdown",
      "source": [
        "This dataset gives information of patients related to heart disease. Dataset contains 14 features of patients' conditons and test results, target variable is the fact that the patient has heart disease or not. \n",
        "\n",
        "In the project, we set the aim to build a decent model to predict the target variable (disease\\non disease) by comparing different machine learning algorithms.\n",
        "\n",
        "<b>Data Attribute Information</b>\n",
        "\n",
        "From (Area the patient came from)\n",
        "\n",
        "Age (age in years)\n",
        "\n",
        "Sex (1 = male; 0 = female)\n",
        "\n",
        "CP (chest pain type)\n",
        "\n",
        "TRESTBPS (resting blood pressure (in mm Hg on admission to the hospital))\n",
        "\n",
        "CHOL (serum cholestoral in mg/dl)\n",
        "\n",
        "FPS (fasting blood sugar > 120 mg/dl) (1 = true; 0 = false)\n",
        "\n",
        "RESTECH (resting electrocardiographic results)\n",
        "\n",
        "THALACH (maximum heart rate achieved)\n",
        "\n",
        "EXANG (exercise induced angina (1 = yes; 0 = no))\n",
        "\n",
        "OLDPEAK (ST depression induced by exercise relative to rest)\n",
        "\n",
        "SLOPE (the slope of the peak exercise ST segment)\n",
        "\n",
        "CA (number of major vessels (0-3) colored by flourosopy)\n",
        "\n",
        "THAL (3 = normal; 6 = fixed defect; 7 = reversable defect)\n",
        "\n",
        "Disease (has heart disease or not: 1 or 0)"
      ],
      "metadata": {
        "id": "At3u7aboJeN2"
      }
    },
    {
      "cell_type": "markdown",
      "source": [
        "## Load Data"
      ],
      "metadata": {
        "id": "b4Ewn7jpJeN2"
      }
    },
    {
      "cell_type": "code",
      "execution_count": null,
      "source": [
        "data = pd.read_csv(\n",
        "    'https://github.com/AlexLZM/Testit/raw/main/Heart_Disease%20(1).csv')"
      ],
      "outputs": [],
      "metadata": {
        "id": "pIj1VjfAJeN2"
      }
    },
    {
      "cell_type": "code",
      "execution_count": null,
      "source": [
        "# Data split\n",
        "X, y = data.iloc[:, :-1], data.iloc[:, -1]\n",
        "X_train, X_test, y_train, y_test = train_test_split(X, y,random_state=666)"
      ],
      "outputs": [],
      "metadata": {
        "id": "7af6I0OcJeN3"
      }
    },
    {
      "cell_type": "markdown",
      "source": [
        "## Fit scikit-learn model"
      ],
      "metadata": {
        "id": "QAckMB0UJeN3"
      }
    },
    {
      "cell_type": "markdown",
      "source": [
        "<b>Create pipeline for categorical and numeric values</b>"
      ],
      "metadata": {
        "id": "ovGoDKtOJeN3"
      }
    },
    {
      "cell_type": "code",
      "execution_count": null,
      "source": [
        "\n",
        "# seperate categorical and numerical features based on domain knowlage\n",
        "cate = [0, 2, 3, 7, 9, 11, 13]\n",
        "nume = [1, 4, 5, 6, 8, 9, 12]\n",
        "\n",
        "con_pipe = Pipeline([('sca', StandardScaler()),  # apply standardscaler to numeric features\n",
        "                     ('imputer', SimpleImputer(strategy='median'))])  # fill null value with median\n",
        "cat_pipe = Pipeline([('str',\n",
        "                      FunctionTransformer(lambda x:(x.astype(str)),\n",
        "                                          validate=False)),  # transform integer categoricals in to string\n",
        "                     # fill null value with 'unknown'\n",
        "                     ('imputer', SimpleImputer(\n",
        "                         strategy='constant', fill_value='unknown')),\n",
        "                     ('encoder', OneHotEncoder(handle_unknown='ignore'))])  # apply one-hot encoder to categoricals\n",
        "prep = ColumnTransformer(\n",
        "    [('conti', con_pipe, nume), ('cate', cat_pipe, cate)])\n",
        "# Dummy for Randomized search\n",
        "pipe = Pipeline([('prep', prep), ('clf', DummyEstimator())])"
      ],
      "outputs": [],
      "metadata": {
        "id": "bHibM38fJeN3"
      }
    },
    {
      "cell_type": "code",
      "execution_count": null,
      "source": [
        "# Randomized search withing hyperparameters and model families\n",
        "search_space = [{'clf': [RandomForestClassifier(n_jobs=-1)],  # Estimator 1\n",
        "                 # controls dependence of trees\n",
        "                 'clf__max_features': np.arange(0.1, 0.6, 0.1),\n",
        "                 # should be enough to converge to minimum validation loss\n",
        "                 'clf__n_estimators': np.arange(100, 1000, 100),\n",
        "                 # control tree size to reduce overfitting\n",
        "                 'clf__min_samples_leaf':np.arange(1, 22, 5),\n",
        "                 # control tree size to reduce overfitting\n",
        "                 'clf__max_depth': np.arange(1, 22, 2),\n",
        "                 # control tree size to reduce overfitting\n",
        "                 'clf__max_leaf_nodes': np.arange(10, 200, 20),\n",
        "                 # bootstrap/subsampling choice\n",
        "                 'clf__bootstrap': [True, False],\n",
        "                 # control tree size to reduce overfitting\n",
        "                 'clf__min_samples_split': np.arange(2, 22, 2)\n",
        "                 },\n",
        "\n",
        "                {'clf': [GradientBoostingClassifier()],  # Estimator 2\n",
        "                 # combine with learning rate to reduce overfitting\n",
        "                 'clf__n_estimators': np.arange(100, 1000, 100),\n",
        "                 # control tree size to reduce overfitting\n",
        "                 'clf__min_samples_leaf':np.arange(1, 22, 5),\n",
        "                 # control tree size to reduce overfitting\n",
        "                 'clf__max_depth': np.arange(1, 22, 2),\n",
        "                 # lower lr means slower fitting process\n",
        "                 'clf__learning_rate':np.arange(0.1, 1.1, 0.1),\n",
        "                 # control tree size to reduce overfitting\n",
        "                 'clf__max_leaf_nodes': np.arange(10, 200, 20),\n",
        "                 # control tree size to reduce overfitting\n",
        "                 'clf__min_samples_split': np.arange(2, 22, 2)\n",
        "                 },\n",
        "                {'clf': [AdaBoostClassifier()],  # Estimator 3\n",
        "                 # combine with learning rate to reduce overfitting\n",
        "                 'clf__n_estimators': np.arange(100, 1000, 100),\n",
        "                 # lower lr means slower fitting process\n",
        "                 'clf__learning_rate':np.arange(0.1, 1.1, 0.1),\n",
        "                 },\n",
        "                {'clf': [HistGradientBoostingClassifier()],  # Estimator 4\n",
        "                 # control tree size to reduce overfitting\n",
        "                 'clf__min_samples_leaf':np.arange(1, 22, 5),\n",
        "                 # control tree size to reduce overfitting\n",
        "                 'clf__max_depth': np.arange(1, 22, 2),\n",
        "                 # control tree size to reduce overfitting\n",
        "                 'clf__max_leaf_nodes': np.arange(10, 200, 20),\n",
        "                 # lower lr means slower fitting process\n",
        "                 'clf__learning_rate':np.arange(0.1, 1.1, 0.1),\n",
        "                 # reduce overfit but increase bias\n",
        "                 'clf__l2_regularization':np.logspace(0.00001, 10, 10)\n",
        "\n",
        "                 }\n",
        "                ]\n",
        "\n",
        "# random search instance\n",
        "rand_search = RandomizedSearchCV(estimator=pipe,\n",
        "                                 param_distributions=search_space,\n",
        "                                 n_iter=50,\n",
        "                                 cv=5,\n",
        "                                 n_jobs=-1,\n",
        "                                 verbose=1, scoring='f1')\n",
        "\n",
        "\n",
        "# Fit the search instance\n",
        "rand_search.fit(X_train, y_train)"
      ],
      "outputs": [
        {
          "output_type": "stream",
          "name": "stdout",
          "text": [
            "Fitting 5 folds for each of 50 candidates, totalling 250 fits\n"
          ]
        },
        {
          "output_type": "stream",
          "name": "stderr",
          "text": [
            "[Parallel(n_jobs=-1)]: Using backend LokyBackend with 2 concurrent workers.\n",
            "[Parallel(n_jobs=-1)]: Done  46 tasks      | elapsed:   20.3s\n",
            "[Parallel(n_jobs=-1)]: Done 196 tasks      | elapsed:  1.6min\n",
            "[Parallel(n_jobs=-1)]: Done 250 out of 250 | elapsed:  2.1min finished\n"
          ]
        },
        {
          "output_type": "execute_result",
          "data": {
            "text/plain": [
              "RandomizedSearchCV(cv=5, error_score=nan,\n",
              "                   estimator=Pipeline(memory=None,\n",
              "                                      steps=[('prep',\n",
              "                                              ColumnTransformer(n_jobs=None,\n",
              "                                                                remainder='drop',\n",
              "                                                                sparse_threshold=0.3,\n",
              "                                                                transformer_weights=None,\n",
              "                                                                transformers=[('conti',\n",
              "                                                                               Pipeline(memory=None,\n",
              "                                                                                        steps=[('sca',\n",
              "                                                                                                StandardScaler(copy=True,\n",
              "                                                                                                               with_mean=True,\n",
              "                                                                                                               with_std=True)),\n",
              "                                                                                               ('imputer',\n",
              "                                                                                                SimpleImputer(add_indicator=False,\n",
              "                                                                                                              copy=True,\n",
              "                                                                                                              fi...\n",
              "       7.74265664e+08, 1.00000000e+10]),\n",
              "                                         'clf__learning_rate': array([0.1, 0.2, 0.3, 0.4, 0.5, 0.6, 0.7, 0.8, 0.9, 1. ]),\n",
              "                                         'clf__max_depth': array([ 1,  3,  5,  7,  9, 11, 13, 15, 17, 19, 21]),\n",
              "                                         'clf__max_leaf_nodes': array([ 10,  30,  50,  70,  90, 110, 130, 150, 170, 190]),\n",
              "                                         'clf__min_samples_leaf': array([ 1,  6, 11, 16, 21])}],\n",
              "                   pre_dispatch='2*n_jobs', random_state=None, refit=True,\n",
              "                   return_train_score=False, scoring='f1', verbose=1)"
            ]
          },
          "metadata": {
            "tags": []
          },
          "execution_count": 38
        }
      ],
      "metadata": {
        "colab": {
          "base_uri": "https://localhost:8080/"
        },
        "id": "m1UxbgCWJeN4",
        "outputId": "b3969589-61f7-48dd-98eb-603c8e6a64be"
      }
    },
    {
      "cell_type": "code",
      "execution_count": null,
      "source": [
        "print(rand_search.best_params_, rand_search.best_score_)"
      ],
      "outputs": [
        {
          "output_type": "stream",
          "name": "stdout",
          "text": [
            "{'clf__n_estimators': 900, 'clf__min_samples_split': 10, 'clf__min_samples_leaf': 1, 'clf__max_leaf_nodes': 70, 'clf__max_features': 0.1, 'clf__max_depth': 19, 'clf__bootstrap': True, 'clf': RandomForestClassifier(bootstrap=True, ccp_alpha=0.0, class_weight=None,\n",
            "                       criterion='gini', max_depth=19, max_features=0.1,\n",
            "                       max_leaf_nodes=70, max_samples=None,\n",
            "                       min_impurity_decrease=0.0, min_impurity_split=None,\n",
            "                       min_samples_leaf=1, min_samples_split=10,\n",
            "                       min_weight_fraction_leaf=0.0, n_estimators=900,\n",
            "                       n_jobs=-1, oob_score=False, random_state=None, verbose=0,\n",
            "                       warm_start=False)} 0.8556411581994204\n"
          ]
        }
      ],
      "metadata": {
        "colab": {
          "base_uri": "https://localhost:8080/"
        },
        "id": "7iGRp1G9JeN4",
        "outputId": "d896e2d5-bf50-473d-8567-ea31a818b5a7"
      }
    },
    {
      "cell_type": "code",
      "execution_count": null,
      "source": [
        "# Baysian Optimization for Hyperparameters\n",
        "# Caution!! Takes long time!\n",
        "\n",
        "\n",
        "def objective(trial):\n",
        "\n",
        "    # Invoke suggest methods of a Trial object to generate hyperparameters.\n",
        "    classifier_names = trial.suggest_categorical(\n",
        "        'reg', ['pipe1', 'pipe2', 'pipe3', 'pipe4'])\n",
        "    if classifier_names == 'pipe1':\n",
        "        n_esti = trial.suggest_int('n_esti', 100, 1000)\n",
        "        msl = trial.suggest_int('msl', 1, 20)\n",
        "        md = trial.suggest_int('md', 1, 20)\n",
        "        mf = trial.suggest_uniform('mf', 0.1, 0.5)\n",
        "        mln = trial.suggest_int('mln', 10, 200)\n",
        "        bs = trial.suggest_categorical('bs', [True, False])\n",
        "        mss = trial.suggest_int('mss', 2, 20)\n",
        "        cw = trial.suggest_categorical(\n",
        "            'cw', ['balanced', 'balanced_subsample', None])\n",
        "\n",
        "        pipee = Pipeline([('prep', prep),\n",
        "                          ('clf', RandomForestClassifier(max_features=mf,\n",
        "                                                         n_jobs=-1,\n",
        "                                                         n_estimators=n_esti,\n",
        "                                                         min_samples_leaf=msl,\n",
        "                                                         max_depth=md,\n",
        "                                                         class_weight=cw,\n",
        "                                                         max_leaf_nodes=mln,\n",
        "                                                         bootstrap=bs,\n",
        "                                                         min_samples_split=mss\n",
        "                                                         ))])\n",
        "\n",
        "    elif classifier_names == 'pipe2':\n",
        "        n_esti = trial.suggest_int('n_esti', 100, 1000)\n",
        "\n",
        "        learning_rate = trial.suggest_uniform('lr', 0.1, 1)\n",
        "        pipee = Pipeline([('prep', prep), ('clf', AdaBoostClassifier(\n",
        "            n_estimators=n_esti,\n",
        "            learning_rate=learning_rate\n",
        "        ))])\n",
        "    elif classifier_names == 'pipe3':\n",
        "        msl = trial.suggest_int('msl', 1, 20)\n",
        "        md = trial.suggest_int('md', 1, 20)\n",
        "        mln = trial.suggest_int('mln', 10, 200)\n",
        "        learning_rate = trial.suggest_uniform('lr', 0.1, 1)\n",
        "        l2_regularization = trial.suggest_loguniform('l2', 0.00001, 10)\n",
        "        pipee = Pipeline([('prep', prep),\n",
        "                          ('clf', HistGradientBoostingClassifier(\n",
        "                              min_samples_leaf=msl,\n",
        "                              max_depth=md,\n",
        "                              max_leaf_nodes=mln,\n",
        "                              learning_rate=learning_rate,\n",
        "                              l2_regularization=l2_regularization,\n",
        "                              ))])\n",
        "    else:\n",
        "        n_esti = trial.suggest_int('n_esti', 100, 1000)\n",
        "        msl = trial.suggest_int('msl', 1, 20)\n",
        "        md = trial.suggest_int('md', 1, 20)\n",
        "        mln = trial.suggest_int('mln', 10, 200)\n",
        "        mss = trial.suggest_int('mss', 2, 20)\n",
        "        learning_rate = trial.suggest_uniform('lr', 0.1, 1)\n",
        "        pipee = Pipeline([('prep', prep),\n",
        "                          ('clf', GradientBoostingClassifier(\n",
        "                              n_estimators=n_esti,\n",
        "                              min_samples_leaf=msl,\n",
        "                              max_depth=md,\n",
        "                              max_leaf_nodes=mln,\n",
        "                              learning_rate=learning_rate,\n",
        "                              min_samples_split=mss\n",
        "                              ))])\n",
        "\n",
        "    # choose f1 score as it is suitable for both imbalanced data and balanced data\n",
        "    scores = cross_validate(pipee, X_train, y_train,\n",
        "                            scoring='f1', cv=5, n_jobs=-1)\n",
        "\n",
        "    error = -np.mean(scores['test_score'])\n",
        "\n",
        "    return error  # An objective value linked with the Trial object.\n",
        "\n",
        "\n",
        "study = optuna.create_study()  # Create a new study.\n",
        "study.optimize(objective, n_trials=50, n_jobs=1, show_progress_bar=1)\n",
        "print(study.best_params)\n",
        "study.trials_dataframe().sort_values('value').head(10)"
      ],
      "outputs": [
        {
          "output_type": "stream",
          "name": "stderr",
          "text": [
            "\u001b[32m[I 2021-03-10 08:41:31,984]\u001b[0m A new study created in memory with name: no-name-c4ab7f73-605e-4932-9e8d-d9383ec3c94b\u001b[0m\n",
            "/usr/local/lib/python3.7/dist-packages/optuna/progress_bar.py:47: ExperimentalWarning:\n",
            "\n",
            "Progress bar is experimental (supported from v1.2.0). The interface can change in the future.\n",
            "\n"
          ]
        },
        {
          "output_type": "display_data",
          "data": {
            "text/plain": [
              "HBox(children=(FloatProgress(value=0.0, max=50.0), HTML(value='')))"
            ],
            "application/vnd.jupyter.widget-view+json": {
              "model_id": "3e715d9feaf944ee981ceba656745bd1",
              "version_major": 2,
              "version_minor": 0
            }
          },
          "metadata": {
            "tags": []
          }
        },
        {
          "output_type": "stream",
          "name": "stdout",
          "text": [
            "\u001b[32m[I 2021-03-10 08:41:33,031]\u001b[0m Trial 0 finished with value: -0.8245283138984583 and parameters: {'reg': 'pipe4', 'n_esti': 240, 'msl': 7, 'md': 6, 'mln': 92, 'mss': 2, 'lr': 0.6767656595105165}. Best is trial 0 with value: -0.8245283138984583.\u001b[0m\n",
            "\u001b[32m[I 2021-03-10 08:41:34,529]\u001b[0m Trial 1 finished with value: -0.820152646839631 and parameters: {'reg': 'pipe1', 'n_esti': 149, 'msl': 18, 'md': 13, 'mf': 0.3182473698304479, 'mln': 158, 'bs': False, 'mss': 12, 'cw': 'balanced'}. Best is trial 0 with value: -0.8245283138984583.\u001b[0m\n",
            "\u001b[32m[I 2021-03-10 08:41:41,905]\u001b[0m Trial 2 finished with value: -0.8293893839448332 and parameters: {'reg': 'pipe1', 'n_esti': 830, 'msl': 9, 'md': 15, 'mf': 0.4099360760514724, 'mln': 151, 'bs': True, 'mss': 6, 'cw': 'balanced'}. Best is trial 2 with value: -0.8293893839448332.\u001b[0m\n",
            "\u001b[32m[I 2021-03-10 08:41:44,158]\u001b[0m Trial 3 finished with value: -0.8332525863707734 and parameters: {'reg': 'pipe2', 'n_esti': 272, 'lr': 0.5797781744229226}. Best is trial 3 with value: -0.8332525863707734.\u001b[0m\n",
            "\u001b[32m[I 2021-03-10 08:41:48,928]\u001b[0m Trial 4 finished with value: -0.8275692945263595 and parameters: {'reg': 'pipe2', 'n_esti': 588, 'lr': 0.6096121620569541}. Best is trial 3 with value: -0.8332525863707734.\u001b[0m\n",
            "\u001b[32m[I 2021-03-10 08:41:50,055]\u001b[0m Trial 5 finished with value: -0.8278384160258672 and parameters: {'reg': 'pipe3', 'msl': 19, 'md': 6, 'mln': 195, 'lr': 0.5051094778393722, 'l2': 0.09653303039829454}. Best is trial 3 with value: -0.8332525863707734.\u001b[0m\n",
            "\u001b[32m[I 2021-03-10 08:41:51,367]\u001b[0m Trial 6 finished with value: -0.8220449257953881 and parameters: {'reg': 'pipe4', 'n_esti': 423, 'msl': 7, 'md': 19, 'mln': 13, 'mss': 16, 'lr': 0.7811498718877044}. Best is trial 3 with value: -0.8332525863707734.\u001b[0m\n",
            "\u001b[32m[I 2021-03-10 08:41:57,927]\u001b[0m Trial 7 finished with value: -0.8290370986048924 and parameters: {'reg': 'pipe2', 'n_esti': 821, 'lr': 0.5275763373131235}. Best is trial 3 with value: -0.8332525863707734.\u001b[0m\n",
            "\u001b[32m[I 2021-03-10 08:41:58,673]\u001b[0m Trial 8 finished with value: -0.8238306724633955 and parameters: {'reg': 'pipe4', 'n_esti': 201, 'msl': 3, 'md': 19, 'mln': 91, 'mss': 5, 'lr': 0.7452501312097572}. Best is trial 3 with value: -0.8332525863707734.\u001b[0m\n",
            "\u001b[32m[I 2021-03-10 08:42:05,649]\u001b[0m Trial 9 finished with value: -0.8311923439800134 and parameters: {'reg': 'pipe2', 'n_esti': 876, 'lr': 0.40549702003704013}. Best is trial 3 with value: -0.8332525863707734.\u001b[0m\n",
            "\u001b[32m[I 2021-03-10 08:42:09,173]\u001b[0m Trial 10 finished with value: -0.8419007524258741 and parameters: {'reg': 'pipe2', 'n_esti': 428, 'lr': 0.12393382203052922}. Best is trial 10 with value: -0.8419007524258741.\u001b[0m\n",
            "\u001b[32m[I 2021-03-10 08:42:12,729]\u001b[0m Trial 11 finished with value: -0.8458293945338158 and parameters: {'reg': 'pipe2', 'n_esti': 432, 'lr': 0.1093016260483672}. Best is trial 11 with value: -0.8458293945338158.\u001b[0m\n",
            "\u001b[32m[I 2021-03-10 08:42:17,200]\u001b[0m Trial 12 finished with value: -0.8436217360110273 and parameters: {'reg': 'pipe2', 'n_esti': 540, 'lr': 0.10129616316752695}. Best is trial 11 with value: -0.8458293945338158.\u001b[0m\n",
            "\u001b[32m[I 2021-03-10 08:42:22,312]\u001b[0m Trial 13 finished with value: -0.8422429159397706 and parameters: {'reg': 'pipe2', 'n_esti': 633, 'lr': 0.11618060256035367}. Best is trial 11 with value: -0.8458293945338158.\u001b[0m\n",
            "\u001b[33m[W 2021-03-10 08:42:22,435]\u001b[0m Trial 14 failed, because the objective function returned nan.\u001b[0m\n",
            "\u001b[33m[W 2021-03-10 08:42:22,567]\u001b[0m Trial 15 failed, because the objective function returned nan.\u001b[0m\n",
            "\u001b[32m[I 2021-03-10 08:42:22,938]\u001b[0m Trial 16 finished with value: -0.8357657634093305 and parameters: {'reg': 'pipe3', 'msl': 14, 'md': 2, 'mln': 10, 'lr': 0.31139360922943465, 'l2': 3.029717881854702e-05}. Best is trial 11 with value: -0.8458293945338158.\u001b[0m\n",
            "\u001b[32m[I 2021-03-10 08:42:26,522]\u001b[0m Trial 17 finished with value: -0.8243844384853626 and parameters: {'reg': 'pipe2', 'n_esti': 440, 'lr': 0.9403171903537026}. Best is trial 11 with value: -0.8458293945338158.\u001b[0m\n",
            "\u001b[32m[I 2021-03-10 08:42:32,191]\u001b[0m Trial 18 finished with value: -0.8388010355657414 and parameters: {'reg': 'pipe2', 'n_esti': 700, 'lr': 0.22258998744808473}. Best is trial 11 with value: -0.8458293945338158.\u001b[0m\n",
            "\u001b[32m[I 2021-03-10 08:42:37,190]\u001b[0m Trial 19 finished with value: -0.8177452219300461 and parameters: {'reg': 'pipe1', 'n_esti': 493, 'msl': 1, 'md': 2, 'mf': 0.11284952837241033, 'mln': 51, 'bs': True, 'mss': 20, 'cw': 'balanced_subsample'}. Best is trial 11 with value: -0.8458293945338158.\u001b[0m\n",
            "\u001b[32m[I 2021-03-10 08:42:38,772]\u001b[0m Trial 20 finished with value: -0.8331278117522791 and parameters: {'reg': 'pipe3', 'msl': 14, 'md': 8, 'mln': 193, 'lr': 0.24182371486455867, 'l2': 4.647918648082624}. Best is trial 11 with value: -0.8458293945338158.\u001b[0m\n",
            "\u001b[32m[I 2021-03-10 08:42:41,710]\u001b[0m Trial 21 finished with value: -0.8441261077587248 and parameters: {'reg': 'pipe2', 'n_esti': 352, 'lr': 0.11912219644379242}. Best is trial 11 with value: -0.8458293945338158.\u001b[0m\n",
            "\u001b[32m[I 2021-03-10 08:42:44,423]\u001b[0m Trial 22 finished with value: -0.8356212590299277 and parameters: {'reg': 'pipe2', 'n_esti': 329, 'lr': 0.3508574381677245}. Best is trial 11 with value: -0.8458293945338158.\u001b[0m\n",
            "\u001b[32m[I 2021-03-10 08:42:47,011]\u001b[0m Trial 23 finished with value: -0.8472961872230653 and parameters: {'reg': 'pipe2', 'n_esti': 315, 'lr': 0.11362138630963163}. Best is trial 23 with value: -0.8472961872230653.\u001b[0m\n",
            "\u001b[32m[I 2021-03-10 08:42:49,926]\u001b[0m Trial 24 finished with value: -0.8446771025933677 and parameters: {'reg': 'pipe2', 'n_esti': 353, 'lr': 0.19555519027139792}. Best is trial 23 with value: -0.8472961872230653.\u001b[0m\n",
            "\u001b[32m[I 2021-03-10 08:42:52,845]\u001b[0m Trial 25 finished with value: -0.8431854905927219 and parameters: {'reg': 'pipe2', 'n_esti': 351, 'lr': 0.20687955348393258}. Best is trial 23 with value: -0.8472961872230653.\u001b[0m\n",
            "\u001b[32m[I 2021-03-10 08:42:53,991]\u001b[0m Trial 26 finished with value: -0.8418859807326105 and parameters: {'reg': 'pipe2', 'n_esti': 123, 'lr': 0.19296271590177969}. Best is trial 23 with value: -0.8472961872230653.\u001b[0m\n",
            "\u001b[32m[I 2021-03-10 08:42:56,651]\u001b[0m Trial 27 finished with value: -0.838763028592631 and parameters: {'reg': 'pipe2', 'n_esti': 321, 'lr': 0.30459337483372373}. Best is trial 23 with value: -0.8472961872230653.\u001b[0m\n",
            "\u001b[32m[I 2021-03-10 08:43:00,547]\u001b[0m Trial 28 finished with value: -0.8299041333293378 and parameters: {'reg': 'pipe2', 'n_esti': 481, 'lr': 0.4433602602342007}. Best is trial 23 with value: -0.8472961872230653.\u001b[0m\n",
            "\u001b[32m[I 2021-03-10 08:43:02,273]\u001b[0m Trial 29 finished with value: -0.840435739622559 and parameters: {'reg': 'pipe1', 'n_esti': 199, 'msl': 13, 'md': 15, 'mf': 0.12800899494601597, 'mln': 55, 'bs': False, 'mss': 20, 'cw': None}. Best is trial 23 with value: -0.8472961872230653.\u001b[0m\n",
            "\u001b[32m[I 2021-03-10 08:43:05,456]\u001b[0m Trial 30 finished with value: -0.8433091910488972 and parameters: {'reg': 'pipe2', 'n_esti': 389, 'lr': 0.18163695363075755}. Best is trial 23 with value: -0.8472961872230653.\u001b[0m\n",
            "\u001b[32m[I 2021-03-10 08:43:07,007]\u001b[0m Trial 31 finished with value: -0.8072478618927011 and parameters: {'reg': 'pipe4', 'n_esti': 284, 'msl': 4, 'md': 11, 'mln': 133, 'mss': 11, 'lr': 0.26478600796411267}. Best is trial 23 with value: -0.8472961872230653.\u001b[0m\n",
            "\u001b[32m[I 2021-03-10 08:43:08,660]\u001b[0m Trial 32 finished with value: -0.8313233323817484 and parameters: {'reg': 'pipe3', 'msl': 18, 'md': 17, 'mln': 34, 'lr': 0.15127080415809482, 'l2': 1.3435168905864502e-05}. Best is trial 23 with value: -0.8472961872230653.\u001b[0m\n",
            "\u001b[32m[I 2021-03-10 08:43:11,857]\u001b[0m Trial 33 finished with value: -0.8441888109392186 and parameters: {'reg': 'pipe2', 'n_esti': 390, 'lr': 0.10204571551168842}. Best is trial 23 with value: -0.8472961872230653.\u001b[0m\n",
            "\u001b[32m[I 2021-03-10 08:43:16,106]\u001b[0m Trial 34 finished with value: -0.8413705128550129 and parameters: {'reg': 'pipe2', 'n_esti': 520, 'lr': 0.11075580763723333}. Best is trial 23 with value: -0.8472961872230653.\u001b[0m\n",
            "\u001b[32m[I 2021-03-10 08:43:19,365]\u001b[0m Trial 35 finished with value: -0.8427430904827968 and parameters: {'reg': 'pipe2', 'n_esti': 402, 'lr': 0.17096071413462047}. Best is trial 23 with value: -0.8472961872230653.\u001b[0m\n",
            "\u001b[32m[I 2021-03-10 08:43:21,450]\u001b[0m Trial 36 finished with value: -0.8393338094619747 and parameters: {'reg': 'pipe2', 'n_esti': 248, 'lr': 0.2732639093784832}. Best is trial 23 with value: -0.8472961872230653.\u001b[0m\n",
            "\u001b[32m[I 2021-03-10 08:43:27,772]\u001b[0m Trial 37 finished with value: -0.8083919831886739 and parameters: {'reg': 'pipe1', 'n_esti': 1000, 'msl': 11, 'md': 1, 'mf': 0.4649816363870825, 'mln': 114, 'bs': False, 'mss': 14, 'cw': None}. Best is trial 23 with value: -0.8472961872230653.\u001b[0m\n",
            "\u001b[32m[I 2021-03-10 08:43:29,251]\u001b[0m Trial 38 finished with value: -0.8392946591984897 and parameters: {'reg': 'pipe2', 'n_esti': 167, 'lr': 0.35112819538753093}. Best is trial 23 with value: -0.8472961872230653.\u001b[0m\n",
            "\u001b[32m[I 2021-03-10 08:43:32,452]\u001b[0m Trial 39 finished with value: -0.8250010273268954 and parameters: {'reg': 'pipe4', 'n_esti': 591, 'msl': 1, 'md': 5, 'mln': 176, 'mss': 7, 'lr': 0.16333904721177606}. Best is trial 23 with value: -0.8472961872230653.\u001b[0m\n",
            "\u001b[32m[I 2021-03-10 08:43:34,827]\u001b[0m Trial 40 finished with value: -0.8241565520791951 and parameters: {'reg': 'pipe2', 'n_esti': 277, 'lr': 0.9679772752372466}. Best is trial 23 with value: -0.8472961872230653.\u001b[0m\n",
            "\u001b[32m[I 2021-03-10 08:43:38,663]\u001b[0m Trial 41 finished with value: -0.8420676521258177 and parameters: {'reg': 'pipe2', 'n_esti': 476, 'lr': 0.10011001152970142}. Best is trial 23 with value: -0.8472961872230653.\u001b[0m\n",
            "\u001b[32m[I 2021-03-10 08:43:41,826]\u001b[0m Trial 42 finished with value: -0.8386589471079734 and parameters: {'reg': 'pipe2', 'n_esti': 386, 'lr': 0.22773058845272803}. Best is trial 23 with value: -0.8472961872230653.\u001b[0m\n",
            "\u001b[32m[I 2021-03-10 08:43:44,664]\u001b[0m Trial 43 finished with value: -0.8446896780329958 and parameters: {'reg': 'pipe2', 'n_esti': 345, 'lr': 0.10281753485877462}. Best is trial 23 with value: -0.8472961872230653.\u001b[0m\n",
            "\u001b[32m[I 2021-03-10 08:43:47,310]\u001b[0m Trial 44 finished with value: -0.8441078831559251 and parameters: {'reg': 'pipe2', 'n_esti': 317, 'lr': 0.15167919441509986}. Best is trial 23 with value: -0.8472961872230653.\u001b[0m\n",
            "\u001b[32m[I 2021-03-10 08:43:49,331]\u001b[0m Trial 45 finished with value: -0.8269359620236812 and parameters: {'reg': 'pipe2', 'n_esti': 237, 'lr': 0.6599887063899482}. Best is trial 23 with value: -0.8472961872230653.\u001b[0m\n",
            "\u001b[32m[I 2021-03-10 08:43:52,977]\u001b[0m Trial 46 finished with value: -0.8445439192700166 and parameters: {'reg': 'pipe2', 'n_esti': 447, 'lr': 0.1090781588844704}. Best is trial 23 with value: -0.8472961872230653.\u001b[0m\n",
            "\u001b[32m[I 2021-03-10 08:43:56,825]\u001b[0m Trial 47 finished with value: -0.8443182894773507 and parameters: {'reg': 'pipe2', 'n_esti': 468, 'lr': 0.15262603262122618}. Best is trial 23 with value: -0.8472961872230653.\u001b[0m\n",
            "\u001b[32m[I 2021-03-10 08:43:59,660]\u001b[0m Trial 48 finished with value: -0.8310399887771895 and parameters: {'reg': 'pipe4', 'n_esti': 582, 'msl': 16, 'md': 9, 'mln': 74, 'mss': 18, 'lr': 0.20950874601046554}. Best is trial 23 with value: -0.8472961872230653.\u001b[0m\n",
            "\u001b[32m[I 2021-03-10 08:44:03,235]\u001b[0m Trial 49 finished with value: -0.8415744318542513 and parameters: {'reg': 'pipe2', 'n_esti': 436, 'lr': 0.10366512257469285}. Best is trial 23 with value: -0.8472961872230653.\u001b[0m\n",
            "\n",
            "{'reg': 'pipe2', 'n_esti': 315, 'lr': 0.11362138630963163}\n"
          ]
        },
        {
          "output_type": "execute_result",
          "data": {
            "text/plain": [
              "    number     value  ... params_reg     state\n",
              "23      23 -0.847296  ...      pipe2  COMPLETE\n",
              "11      11 -0.845829  ...      pipe2  COMPLETE\n",
              "43      43 -0.844690  ...      pipe2  COMPLETE\n",
              "24      24 -0.844677  ...      pipe2  COMPLETE\n",
              "46      46 -0.844544  ...      pipe2  COMPLETE\n",
              "47      47 -0.844318  ...      pipe2  COMPLETE\n",
              "33      33 -0.844189  ...      pipe2  COMPLETE\n",
              "21      21 -0.844126  ...      pipe2  COMPLETE\n",
              "44      44 -0.844108  ...      pipe2  COMPLETE\n",
              "12      12 -0.843622  ...      pipe2  COMPLETE\n",
              "\n",
              "[10 rows x 17 columns]"
            ],
            "text/html": [
              "<div>\n",
              "<style scoped>\n",
              "    .dataframe tbody tr th:only-of-type {\n",
              "        vertical-align: middle;\n",
              "    }\n",
              "\n",
              "    .dataframe tbody tr th {\n",
              "        vertical-align: top;\n",
              "    }\n",
              "\n",
              "    .dataframe thead th {\n",
              "        text-align: right;\n",
              "    }\n",
              "</style>\n",
              "<table border=\"1\" class=\"dataframe\">\n",
              "  <thead>\n",
              "    <tr style=\"text-align: right;\">\n",
              "      <th></th>\n",
              "      <th>number</th>\n",
              "      <th>value</th>\n",
              "      <th>datetime_start</th>\n",
              "      <th>datetime_complete</th>\n",
              "      <th>duration</th>\n",
              "      <th>params_bs</th>\n",
              "      <th>params_cw</th>\n",
              "      <th>params_l2</th>\n",
              "      <th>params_lr</th>\n",
              "      <th>params_md</th>\n",
              "      <th>params_mf</th>\n",
              "      <th>params_mln</th>\n",
              "      <th>params_msl</th>\n",
              "      <th>params_mss</th>\n",
              "      <th>params_n_esti</th>\n",
              "      <th>params_reg</th>\n",
              "      <th>state</th>\n",
              "    </tr>\n",
              "  </thead>\n",
              "  <tbody>\n",
              "    <tr>\n",
              "      <th>23</th>\n",
              "      <td>23</td>\n",
              "      <td>-0.847296</td>\n",
              "      <td>2021-03-10 08:42:44.429173</td>\n",
              "      <td>2021-03-10 08:42:47.010955</td>\n",
              "      <td>0 days 00:00:02.581782</td>\n",
              "      <td>NaN</td>\n",
              "      <td>NaN</td>\n",
              "      <td>NaN</td>\n",
              "      <td>0.113621</td>\n",
              "      <td>NaN</td>\n",
              "      <td>NaN</td>\n",
              "      <td>NaN</td>\n",
              "      <td>NaN</td>\n",
              "      <td>NaN</td>\n",
              "      <td>315.0</td>\n",
              "      <td>pipe2</td>\n",
              "      <td>COMPLETE</td>\n",
              "    </tr>\n",
              "    <tr>\n",
              "      <th>11</th>\n",
              "      <td>11</td>\n",
              "      <td>-0.845829</td>\n",
              "      <td>2021-03-10 08:42:09.183387</td>\n",
              "      <td>2021-03-10 08:42:12.728715</td>\n",
              "      <td>0 days 00:00:03.545328</td>\n",
              "      <td>NaN</td>\n",
              "      <td>NaN</td>\n",
              "      <td>NaN</td>\n",
              "      <td>0.109302</td>\n",
              "      <td>NaN</td>\n",
              "      <td>NaN</td>\n",
              "      <td>NaN</td>\n",
              "      <td>NaN</td>\n",
              "      <td>NaN</td>\n",
              "      <td>432.0</td>\n",
              "      <td>pipe2</td>\n",
              "      <td>COMPLETE</td>\n",
              "    </tr>\n",
              "    <tr>\n",
              "      <th>43</th>\n",
              "      <td>43</td>\n",
              "      <td>-0.844690</td>\n",
              "      <td>2021-03-10 08:43:41.831139</td>\n",
              "      <td>2021-03-10 08:43:44.664118</td>\n",
              "      <td>0 days 00:00:02.832979</td>\n",
              "      <td>NaN</td>\n",
              "      <td>NaN</td>\n",
              "      <td>NaN</td>\n",
              "      <td>0.102818</td>\n",
              "      <td>NaN</td>\n",
              "      <td>NaN</td>\n",
              "      <td>NaN</td>\n",
              "      <td>NaN</td>\n",
              "      <td>NaN</td>\n",
              "      <td>345.0</td>\n",
              "      <td>pipe2</td>\n",
              "      <td>COMPLETE</td>\n",
              "    </tr>\n",
              "    <tr>\n",
              "      <th>24</th>\n",
              "      <td>24</td>\n",
              "      <td>-0.844677</td>\n",
              "      <td>2021-03-10 08:42:47.022683</td>\n",
              "      <td>2021-03-10 08:42:49.925734</td>\n",
              "      <td>0 days 00:00:02.903051</td>\n",
              "      <td>NaN</td>\n",
              "      <td>NaN</td>\n",
              "      <td>NaN</td>\n",
              "      <td>0.195555</td>\n",
              "      <td>NaN</td>\n",
              "      <td>NaN</td>\n",
              "      <td>NaN</td>\n",
              "      <td>NaN</td>\n",
              "      <td>NaN</td>\n",
              "      <td>353.0</td>\n",
              "      <td>pipe2</td>\n",
              "      <td>COMPLETE</td>\n",
              "    </tr>\n",
              "    <tr>\n",
              "      <th>46</th>\n",
              "      <td>46</td>\n",
              "      <td>-0.844544</td>\n",
              "      <td>2021-03-10 08:43:49.340259</td>\n",
              "      <td>2021-03-10 08:43:52.976715</td>\n",
              "      <td>0 days 00:00:03.636456</td>\n",
              "      <td>NaN</td>\n",
              "      <td>NaN</td>\n",
              "      <td>NaN</td>\n",
              "      <td>0.109078</td>\n",
              "      <td>NaN</td>\n",
              "      <td>NaN</td>\n",
              "      <td>NaN</td>\n",
              "      <td>NaN</td>\n",
              "      <td>NaN</td>\n",
              "      <td>447.0</td>\n",
              "      <td>pipe2</td>\n",
              "      <td>COMPLETE</td>\n",
              "    </tr>\n",
              "    <tr>\n",
              "      <th>47</th>\n",
              "      <td>47</td>\n",
              "      <td>-0.844318</td>\n",
              "      <td>2021-03-10 08:43:52.985927</td>\n",
              "      <td>2021-03-10 08:43:56.825144</td>\n",
              "      <td>0 days 00:00:03.839217</td>\n",
              "      <td>NaN</td>\n",
              "      <td>NaN</td>\n",
              "      <td>NaN</td>\n",
              "      <td>0.152626</td>\n",
              "      <td>NaN</td>\n",
              "      <td>NaN</td>\n",
              "      <td>NaN</td>\n",
              "      <td>NaN</td>\n",
              "      <td>NaN</td>\n",
              "      <td>468.0</td>\n",
              "      <td>pipe2</td>\n",
              "      <td>COMPLETE</td>\n",
              "    </tr>\n",
              "    <tr>\n",
              "      <th>33</th>\n",
              "      <td>33</td>\n",
              "      <td>-0.844189</td>\n",
              "      <td>2021-03-10 08:43:08.668294</td>\n",
              "      <td>2021-03-10 08:43:11.856981</td>\n",
              "      <td>0 days 00:00:03.188687</td>\n",
              "      <td>NaN</td>\n",
              "      <td>NaN</td>\n",
              "      <td>NaN</td>\n",
              "      <td>0.102046</td>\n",
              "      <td>NaN</td>\n",
              "      <td>NaN</td>\n",
              "      <td>NaN</td>\n",
              "      <td>NaN</td>\n",
              "      <td>NaN</td>\n",
              "      <td>390.0</td>\n",
              "      <td>pipe2</td>\n",
              "      <td>COMPLETE</td>\n",
              "    </tr>\n",
              "    <tr>\n",
              "      <th>21</th>\n",
              "      <td>21</td>\n",
              "      <td>-0.844126</td>\n",
              "      <td>2021-03-10 08:42:38.783111</td>\n",
              "      <td>2021-03-10 08:42:41.710447</td>\n",
              "      <td>0 days 00:00:02.927336</td>\n",
              "      <td>NaN</td>\n",
              "      <td>NaN</td>\n",
              "      <td>NaN</td>\n",
              "      <td>0.119122</td>\n",
              "      <td>NaN</td>\n",
              "      <td>NaN</td>\n",
              "      <td>NaN</td>\n",
              "      <td>NaN</td>\n",
              "      <td>NaN</td>\n",
              "      <td>352.0</td>\n",
              "      <td>pipe2</td>\n",
              "      <td>COMPLETE</td>\n",
              "    </tr>\n",
              "    <tr>\n",
              "      <th>44</th>\n",
              "      <td>44</td>\n",
              "      <td>-0.844108</td>\n",
              "      <td>2021-03-10 08:43:44.669955</td>\n",
              "      <td>2021-03-10 08:43:47.310125</td>\n",
              "      <td>0 days 00:00:02.640170</td>\n",
              "      <td>NaN</td>\n",
              "      <td>NaN</td>\n",
              "      <td>NaN</td>\n",
              "      <td>0.151679</td>\n",
              "      <td>NaN</td>\n",
              "      <td>NaN</td>\n",
              "      <td>NaN</td>\n",
              "      <td>NaN</td>\n",
              "      <td>NaN</td>\n",
              "      <td>317.0</td>\n",
              "      <td>pipe2</td>\n",
              "      <td>COMPLETE</td>\n",
              "    </tr>\n",
              "    <tr>\n",
              "      <th>12</th>\n",
              "      <td>12</td>\n",
              "      <td>-0.843622</td>\n",
              "      <td>2021-03-10 08:42:12.739815</td>\n",
              "      <td>2021-03-10 08:42:17.200329</td>\n",
              "      <td>0 days 00:00:04.460514</td>\n",
              "      <td>NaN</td>\n",
              "      <td>NaN</td>\n",
              "      <td>NaN</td>\n",
              "      <td>0.101296</td>\n",
              "      <td>NaN</td>\n",
              "      <td>NaN</td>\n",
              "      <td>NaN</td>\n",
              "      <td>NaN</td>\n",
              "      <td>NaN</td>\n",
              "      <td>540.0</td>\n",
              "      <td>pipe2</td>\n",
              "      <td>COMPLETE</td>\n",
              "    </tr>\n",
              "  </tbody>\n",
              "</table>\n",
              "</div>"
            ]
          },
          "metadata": {
            "tags": []
          },
          "execution_count": 0
        }
      ],
      "metadata": {
        "colab": {
          "background_save": true,
          "base_uri": "https://localhost:8080/",
          "height": 1000,
          "referenced_widgets": [
            "3e715d9feaf944ee981ceba656745bd1",
            "222967b5431a4af89546e2257a42bdb9",
            "e0cdc2c6b369430cbef422e04e6b0e6a",
            "0c9317917e994313a3bb5f92f51f9ad2",
            "5714c1a1880c4ff4ad661d40efe9aa26",
            "f1ee012b217f496d90201f823f53a1a3",
            "b5d487d470e348a69704fe6f59599d77",
            "afc1ad477201479c9177db817cf5dcbf"
          ]
        },
        "id": "XABsHKTBJeN5",
        "outputId": "5395379a-b71c-4571-e04e-6dad8eef31bf"
      }
    },
    {
      "cell_type": "code",
      "execution_count": null,
      "source": [
        "# Collected best hyperparameters with some hand tuning\n",
        "params0 = dict(bootstrap=False, max_depth=19, max_features=0.1,\n",
        "               max_leaf_nodes=170, min_samples_split=10,\n",
        "               n_estimators=300, n_jobs=-1)\n",
        "\n",
        "params1 = {'n_estimators': 100,\n",
        "           'learning_rate': 0.129}\n",
        "\n",
        "params2 = {'min_samples_leaf': 13,\n",
        "           'max_depth': 2,\n",
        "           'max_leaf_nodes': 45,\n",
        "           'learning_rate': 0.27,\n",
        "           'l2_regularization': 6.711291}\n",
        "\n",
        "params3 = {'n_estimators': 130,\n",
        "           'learning_rate': 0.161163}\n",
        "\n",
        "params4 = {'n_estimators': 138,\n",
        "           'min_samples_leaf': 12,\n",
        "           'max_depth': 1,\n",
        "           'max_leaf_nodes': 103,\n",
        "           'min_samples_split': 19,\n",
        "           'learning_rate': 0.5245992478750252}\n",
        "\n",
        "params5 = {'n_estimators': 154,\n",
        "           'min_samples_leaf': 11,\n",
        "           'max_depth': 1,\n",
        "           'max_leaf_nodes': 119,\n",
        "           'min_samples_split': 10,\n",
        "           'learning_rate': 0.5707539214903328}\n",
        "\n",
        "params6 = {'n_estimators': 645,\n",
        "           'min_samples_leaf': 2,\n",
        "           'max_depth': 17,\n",
        "           'max_features': 0.17,\n",
        "           'max_leaf_nodes': 74,\n",
        "           'bootstrap': False,\n",
        "           'min_samples_split': 11,\n",
        "           'class_weight': None}"
      ],
      "outputs": [],
      "metadata": {
        "id": "r9JarfbkJeN6"
      }
    },
    {
      "cell_type": "code",
      "execution_count": null,
      "source": [
        "# Plus in hyperparameters into model pipelines\n",
        "\n",
        "# Candidate from 1st Randomized search\n",
        "pipe0 = Pipeline([('prep', prep),\n",
        "                  ('clf',\n",
        "                   RandomForestClassifier(**params0))])\n",
        "\n",
        "# Candidate from 2nd Randomized search\n",
        "pipe1 = Pipeline([('prep', prep),\n",
        "                  ('clf',\n",
        "                   AdaBoostClassifier(**params1))])\n",
        "\n",
        "# Candidate from 1st Bayesian Optimization search\n",
        "\n",
        "pipe2 = Pipeline([('prep', prep),\n",
        "                  ('clf',\n",
        "                   HistGradientBoostingClassifier(**params2))])\n",
        "\n",
        "# Candidate from 2nd Bayesian Optimization search\n",
        "\n",
        "pipe3 = Pipeline([('prep', prep),\n",
        "                  ('clf',\n",
        "                   AdaBoostClassifier(**params3))])\n",
        "\n",
        "# Candidate from 3rd Bayesian Optimization search\n",
        "pipe4 = Pipeline([('prep', prep),\n",
        "                  ('clf',\n",
        "                   GradientBoostingClassifier(**params4))])\n",
        "\n",
        "# Candidate from 4th Bayesian Optimization search\n",
        "pipe5 = Pipeline([('prep', prep),\n",
        "                  ('clf',\n",
        "                   GradientBoostingClassifier(**params5))])\n",
        "\n",
        "# Candidate from 5th Bayesian Optimization search\n",
        "pipe6 = Pipeline([('prep', prep),\n",
        "                  ('clf',\n",
        "                   RandomForestClassifier(**params6))])"
      ],
      "outputs": [],
      "metadata": {
        "id": "P-YLZFHPJeN6"
      }
    },
    {
      "cell_type": "code",
      "execution_count": null,
      "source": [
        "# compare performance with iterative cross-validation\n",
        "# to minimize variance from randomness\n",
        "scores = []\n",
        "for i in range(7):  # number of candidates\n",
        "    score = []\n",
        "    for j in range(5):  # number of iterations for each candidate\n",
        "        score.append(np.mean(cross_validate(globals()['pipe'+str(i)],\n",
        "                                            X_train, y_train, scoring='f1',\n",
        "                                            cv=5, n_jobs=-1)['test_score']))\n",
        "    scores.append((np.mean(score), np.std(score),\n",
        "                   'pipe' +\n",
        "                   str(i), type(\n",
        "                       (globals()['pipe'+str(i)]).steps[1][1]).__name__[:-10],\n",
        "                   (globals()['params'+str(i)])))"
      ],
      "outputs": [],
      "metadata": {
        "id": "27LSi4l8JeN7"
      }
    },
    {
      "cell_type": "code",
      "execution_count": null,
      "source": [
        "ranking = pd.DataFrame(scores,\n",
        "                       columns=['mean_score', 'std', 'estimator', 'type', 'param'])\\\n",
        "    .sort_values('mean_score', ascending=False)\\\n",
        "    .reset_index(drop=True)\\\n",
        "    .sort_values('type')"
      ],
      "outputs": [],
      "metadata": {
        "id": "zD4mm9AKJeN7"
      }
    },
    {
      "cell_type": "code",
      "execution_count": null,
      "source": [
        "pd.options.display.max_colwidth = 200\n",
        "ranking"
      ],
      "outputs": [
        {
          "output_type": "execute_result",
          "data": {
            "text/plain": [
              "   mean_score  ...                                                                                                                                                                         param\n",
              "5    0.838862  ...                                                                                                                                 {'n_estimators': 100, 'learning_rate': 0.129}\n",
              "6    0.838738  ...                                                                                                                              {'n_estimators': 130, 'learning_rate': 0.161163}\n",
              "2    0.850211  ...                            {'n_estimators': 138, 'min_samples_leaf': 12, 'max_depth': 1, 'max_leaf_nodes': 103, 'min_samples_split': 19, 'learning_rate': 0.5245992478750252}\n",
              "3    0.845639  ...                            {'n_estimators': 154, 'min_samples_leaf': 11, 'max_depth': 1, 'max_leaf_nodes': 119, 'min_samples_split': 10, 'learning_rate': 0.5707539214903328}\n",
              "4    0.843937  ...                                                          {'min_samples_leaf': 13, 'max_depth': 2, 'max_leaf_nodes': 45, 'learning_rate': 0.27, 'l2_regularization': 6.711291}\n",
              "0    0.853187  ...                                 {'bootstrap': False, 'max_depth': 19, 'max_features': 0.1, 'max_leaf_nodes': 170, 'min_samples_split': 10, 'n_estimators': 300, 'n_jobs': -1}\n",
              "1    0.851979  ...  {'n_estimators': 645, 'min_samples_leaf': 2, 'max_depth': 17, 'max_features': 0.17, 'max_leaf_nodes': 74, 'bootstrap': False, 'min_samples_split': 11, 'class_weight': None}\n",
              "\n",
              "[7 rows x 5 columns]"
            ],
            "text/html": [
              "<div>\n",
              "<style scoped>\n",
              "    .dataframe tbody tr th:only-of-type {\n",
              "        vertical-align: middle;\n",
              "    }\n",
              "\n",
              "    .dataframe tbody tr th {\n",
              "        vertical-align: top;\n",
              "    }\n",
              "\n",
              "    .dataframe thead th {\n",
              "        text-align: right;\n",
              "    }\n",
              "</style>\n",
              "<table border=\"1\" class=\"dataframe\">\n",
              "  <thead>\n",
              "    <tr style=\"text-align: right;\">\n",
              "      <th></th>\n",
              "      <th>mean_score</th>\n",
              "      <th>std</th>\n",
              "      <th>estimator</th>\n",
              "      <th>type</th>\n",
              "      <th>param</th>\n",
              "    </tr>\n",
              "  </thead>\n",
              "  <tbody>\n",
              "    <tr>\n",
              "      <th>5</th>\n",
              "      <td>0.838862</td>\n",
              "      <td>0.000000</td>\n",
              "      <td>pipe1</td>\n",
              "      <td>AdaBoost</td>\n",
              "      <td>{'n_estimators': 100, 'learning_rate': 0.129}</td>\n",
              "    </tr>\n",
              "    <tr>\n",
              "      <th>6</th>\n",
              "      <td>0.838738</td>\n",
              "      <td>0.000000</td>\n",
              "      <td>pipe3</td>\n",
              "      <td>AdaBoost</td>\n",
              "      <td>{'n_estimators': 130, 'learning_rate': 0.161163}</td>\n",
              "    </tr>\n",
              "    <tr>\n",
              "      <th>2</th>\n",
              "      <td>0.850211</td>\n",
              "      <td>0.000000</td>\n",
              "      <td>pipe4</td>\n",
              "      <td>GradientBoosting</td>\n",
              "      <td>{'n_estimators': 138, 'min_samples_leaf': 12, 'max_depth': 1, 'max_leaf_nodes': 103, 'min_samples_split': 19, 'learning_rate': 0.5245992478750252}</td>\n",
              "    </tr>\n",
              "    <tr>\n",
              "      <th>3</th>\n",
              "      <td>0.845639</td>\n",
              "      <td>0.000000</td>\n",
              "      <td>pipe5</td>\n",
              "      <td>GradientBoosting</td>\n",
              "      <td>{'n_estimators': 154, 'min_samples_leaf': 11, 'max_depth': 1, 'max_leaf_nodes': 119, 'min_samples_split': 10, 'learning_rate': 0.5707539214903328}</td>\n",
              "    </tr>\n",
              "    <tr>\n",
              "      <th>4</th>\n",
              "      <td>0.843937</td>\n",
              "      <td>0.000000</td>\n",
              "      <td>pipe2</td>\n",
              "      <td>HistGradientBoosting</td>\n",
              "      <td>{'min_samples_leaf': 13, 'max_depth': 2, 'max_leaf_nodes': 45, 'learning_rate': 0.27, 'l2_regularization': 6.711291}</td>\n",
              "    </tr>\n",
              "    <tr>\n",
              "      <th>0</th>\n",
              "      <td>0.853187</td>\n",
              "      <td>0.001457</td>\n",
              "      <td>pipe0</td>\n",
              "      <td>RandomForest</td>\n",
              "      <td>{'bootstrap': False, 'max_depth': 19, 'max_features': 0.1, 'max_leaf_nodes': 170, 'min_samples_split': 10, 'n_estimators': 300, 'n_jobs': -1}</td>\n",
              "    </tr>\n",
              "    <tr>\n",
              "      <th>1</th>\n",
              "      <td>0.851979</td>\n",
              "      <td>0.002066</td>\n",
              "      <td>pipe6</td>\n",
              "      <td>RandomForest</td>\n",
              "      <td>{'n_estimators': 645, 'min_samples_leaf': 2, 'max_depth': 17, 'max_features': 0.17, 'max_leaf_nodes': 74, 'bootstrap': False, 'min_samples_split': 11, 'class_weight': None}</td>\n",
              "    </tr>\n",
              "  </tbody>\n",
              "</table>\n",
              "</div>"
            ]
          },
          "metadata": {
            "tags": []
          },
          "execution_count": 36
        }
      ],
      "metadata": {
        "id": "AP-mhrVYJeN7",
        "colab": {
          "base_uri": "https://localhost:8080/",
          "height": 419
        },
        "outputId": "5717ded8-5a70-406c-d47f-b5b3bae88212"
      }
    },
    {
      "cell_type": "code",
      "execution_count": null,
      "source": [
        "# Automaticlly select best models\n",
        "best_rf = globals()[ranking[ranking['type'] == 'RandomForest'].iloc[0, 2]]\n",
        "best_ada = globals()[ranking[ranking['type'] == 'AdaBoost'].iloc[0, 2]]\n",
        "best_gbm = globals()[ranking[ranking['type']\n",
        "                             == 'GradientBoosting'].iloc[0, 2]]\n",
        "best_hist = globals()[ranking[ranking['type']\n",
        "                              == 'HistGradientBoosting'].iloc[0, 2]]"
      ],
      "outputs": [],
      "metadata": {
        "id": "lSFSiPmcJeN8"
      }
    },
    {
      "cell_type": "code",
      "execution_count": null,
      "source": [
        "# Best in each family:Random Forest, GBM, Hist GBM, AdaBoost\n",
        "estimators = [('p0', best_rf), ('p1', best_ada),\n",
        "              ('p2', best_gbm), ('p3', best_hist)]"
      ],
      "outputs": [],
      "metadata": {
        "id": "dTGiw47HJeN8"
      }
    },
    {
      "cell_type": "code",
      "execution_count": null,
      "source": [
        "# stacked ensemble\n",
        "stack = StackingClassifier(estimators, cv=5, n_jobs=-1)"
      ],
      "outputs": [],
      "metadata": {
        "id": "0nIzmEINJeN8"
      }
    },
    {
      "cell_type": "code",
      "execution_count": null,
      "source": [
        "# voting ensemble\n",
        "vote = VotingClassifier(estimators, n_jobs=-1)"
      ],
      "outputs": [],
      "metadata": {
        "id": "JfwtxKjXJeN8"
      }
    },
    {
      "cell_type": "code",
      "execution_count": null,
      "source": [
        "# evaluate stacking and voting with cross validation\n",
        "scores = []\n",
        "for ensemble in ['stack', 'vote']:\n",
        "    score = []\n",
        "    for i in range(5):\n",
        "        score.append(np.mean(cross_validate(globals()[ensemble], X_train, y_train,\n",
        "                                            scoring='f1', cv=5, n_jobs=-1)\n",
        "                             ['test_score']))\n",
        "    scores.append((np.mean(score), np.std(score),\n",
        "                   ensemble, type((globals()[ensemble])).__name__[:-10],\n",
        "                   f'Ensemble of best Random Forest, GBM, Hist GBM and AdaBoost models'))"
      ],
      "outputs": [],
      "metadata": {
        "id": "zi5eFs28JeN8"
      }
    },
    {
      "cell_type": "code",
      "execution_count": null,
      "source": [
        "ranking2 = pd.DataFrame(scores,\n",
        "                        columns=['mean_score', 'std', 'estimator', 'type', 'param'])"
      ],
      "outputs": [],
      "metadata": {
        "id": "j-ufoUnVJeN8"
      }
    },
    {
      "cell_type": "code",
      "execution_count": null,
      "source": [
        "ranking_final = pd.concat([ranking, ranking2], axis=0)\\\n",
        ".sort_values('mean_score', ascending=False)\\\n",
        "            .reset_index(drop=True)\\"
      ],
      "outputs": [],
      "metadata": {
        "id": "9MER2dJaJeN8"
      }
    },
    {
      "cell_type": "code",
      "execution_count": null,
      "source": [
        "ranking_final"
      ],
      "outputs": [
        {
          "output_type": "execute_result",
          "data": {
            "text/plain": [
              "   mean_score  ...                                                                                                                                                                         param\n",
              "0    0.853187  ...                                 {'bootstrap': False, 'max_depth': 19, 'max_features': 0.1, 'max_leaf_nodes': 170, 'min_samples_split': 10, 'n_estimators': 300, 'n_jobs': -1}\n",
              "1    0.851979  ...  {'n_estimators': 645, 'min_samples_leaf': 2, 'max_depth': 17, 'max_features': 0.17, 'max_leaf_nodes': 74, 'bootstrap': False, 'min_samples_split': 11, 'class_weight': None}\n",
              "2    0.850211  ...                            {'n_estimators': 138, 'min_samples_leaf': 12, 'max_depth': 1, 'max_leaf_nodes': 103, 'min_samples_split': 19, 'learning_rate': 0.5245992478750252}\n",
              "3    0.849371  ...                                                                                                             Ensemble of best Random Forest, GBM, Hist GBM and AdaBoost models\n",
              "4    0.846199  ...                                                                                                             Ensemble of best Random Forest, GBM, Hist GBM and AdaBoost models\n",
              "5    0.845639  ...                            {'n_estimators': 154, 'min_samples_leaf': 11, 'max_depth': 1, 'max_leaf_nodes': 119, 'min_samples_split': 10, 'learning_rate': 0.5707539214903328}\n",
              "6    0.843937  ...                                                          {'min_samples_leaf': 13, 'max_depth': 2, 'max_leaf_nodes': 45, 'learning_rate': 0.27, 'l2_regularization': 6.711291}\n",
              "7    0.838862  ...                                                                                                                                 {'n_estimators': 100, 'learning_rate': 0.129}\n",
              "8    0.838738  ...                                                                                                                              {'n_estimators': 130, 'learning_rate': 0.161163}\n",
              "\n",
              "[9 rows x 5 columns]"
            ],
            "text/html": [
              "<div>\n",
              "<style scoped>\n",
              "    .dataframe tbody tr th:only-of-type {\n",
              "        vertical-align: middle;\n",
              "    }\n",
              "\n",
              "    .dataframe tbody tr th {\n",
              "        vertical-align: top;\n",
              "    }\n",
              "\n",
              "    .dataframe thead th {\n",
              "        text-align: right;\n",
              "    }\n",
              "</style>\n",
              "<table border=\"1\" class=\"dataframe\">\n",
              "  <thead>\n",
              "    <tr style=\"text-align: right;\">\n",
              "      <th></th>\n",
              "      <th>mean_score</th>\n",
              "      <th>std</th>\n",
              "      <th>estimator</th>\n",
              "      <th>type</th>\n",
              "      <th>param</th>\n",
              "    </tr>\n",
              "  </thead>\n",
              "  <tbody>\n",
              "    <tr>\n",
              "      <th>0</th>\n",
              "      <td>0.853187</td>\n",
              "      <td>0.001457</td>\n",
              "      <td>pipe0</td>\n",
              "      <td>RandomForest</td>\n",
              "      <td>{'bootstrap': False, 'max_depth': 19, 'max_features': 0.1, 'max_leaf_nodes': 170, 'min_samples_split': 10, 'n_estimators': 300, 'n_jobs': -1}</td>\n",
              "    </tr>\n",
              "    <tr>\n",
              "      <th>1</th>\n",
              "      <td>0.851979</td>\n",
              "      <td>0.002066</td>\n",
              "      <td>pipe6</td>\n",
              "      <td>RandomForest</td>\n",
              "      <td>{'n_estimators': 645, 'min_samples_leaf': 2, 'max_depth': 17, 'max_features': 0.17, 'max_leaf_nodes': 74, 'bootstrap': False, 'min_samples_split': 11, 'class_weight': None}</td>\n",
              "    </tr>\n",
              "    <tr>\n",
              "      <th>2</th>\n",
              "      <td>0.850211</td>\n",
              "      <td>0.000000</td>\n",
              "      <td>pipe4</td>\n",
              "      <td>GradientBoosting</td>\n",
              "      <td>{'n_estimators': 138, 'min_samples_leaf': 12, 'max_depth': 1, 'max_leaf_nodes': 103, 'min_samples_split': 19, 'learning_rate': 0.5245992478750252}</td>\n",
              "    </tr>\n",
              "    <tr>\n",
              "      <th>3</th>\n",
              "      <td>0.849371</td>\n",
              "      <td>0.002100</td>\n",
              "      <td>stack</td>\n",
              "      <td>Stacking</td>\n",
              "      <td>Ensemble of best Random Forest, GBM, Hist GBM and AdaBoost models</td>\n",
              "    </tr>\n",
              "    <tr>\n",
              "      <th>4</th>\n",
              "      <td>0.846199</td>\n",
              "      <td>0.000690</td>\n",
              "      <td>vote</td>\n",
              "      <td>Voting</td>\n",
              "      <td>Ensemble of best Random Forest, GBM, Hist GBM and AdaBoost models</td>\n",
              "    </tr>\n",
              "    <tr>\n",
              "      <th>5</th>\n",
              "      <td>0.845639</td>\n",
              "      <td>0.000000</td>\n",
              "      <td>pipe5</td>\n",
              "      <td>GradientBoosting</td>\n",
              "      <td>{'n_estimators': 154, 'min_samples_leaf': 11, 'max_depth': 1, 'max_leaf_nodes': 119, 'min_samples_split': 10, 'learning_rate': 0.5707539214903328}</td>\n",
              "    </tr>\n",
              "    <tr>\n",
              "      <th>6</th>\n",
              "      <td>0.843937</td>\n",
              "      <td>0.000000</td>\n",
              "      <td>pipe2</td>\n",
              "      <td>HistGradientBoosting</td>\n",
              "      <td>{'min_samples_leaf': 13, 'max_depth': 2, 'max_leaf_nodes': 45, 'learning_rate': 0.27, 'l2_regularization': 6.711291}</td>\n",
              "    </tr>\n",
              "    <tr>\n",
              "      <th>7</th>\n",
              "      <td>0.838862</td>\n",
              "      <td>0.000000</td>\n",
              "      <td>pipe1</td>\n",
              "      <td>AdaBoost</td>\n",
              "      <td>{'n_estimators': 100, 'learning_rate': 0.129}</td>\n",
              "    </tr>\n",
              "    <tr>\n",
              "      <th>8</th>\n",
              "      <td>0.838738</td>\n",
              "      <td>0.000000</td>\n",
              "      <td>pipe3</td>\n",
              "      <td>AdaBoost</td>\n",
              "      <td>{'n_estimators': 130, 'learning_rate': 0.161163}</td>\n",
              "    </tr>\n",
              "  </tbody>\n",
              "</table>\n",
              "</div>"
            ]
          },
          "metadata": {
            "tags": []
          },
          "execution_count": 44
        }
      ],
      "metadata": {
        "id": "6nc2ZxW3JeN9",
        "colab": {
          "base_uri": "https://localhost:8080/",
          "height": 515
        },
        "outputId": "4a9b0246-65ab-427e-95b9-cecdeaae20b3"
      }
    },
    {
      "cell_type": "code",
      "execution_count": null,
      "source": [
        "best_model = globals()[ranking_final.loc[0, 'estimator']]"
      ],
      "outputs": [],
      "metadata": {
        "id": "-03X62_yJeN9"
      }
    },
    {
      "cell_type": "markdown",
      "source": [
        "<b>According to final scores,we chose this model below as our final model:</b>\n",
        "\n",
        "\n",
        "\n"
      ],
      "metadata": {
        "id": "3Y29xQYdJeN9"
      }
    },
    {
      "cell_type": "code",
      "execution_count": null,
      "source": [
        "if type(best_model).__name__ == 'Pipeline':\n",
        "    print(f'Final model is a {type(best_model.steps[1][1]).__name__}')\n",
        "else:\n",
        "    print(f'Final model is a {type(best_model).__name__}')\n",
        "print()\n",
        "print(f'With preprocessing pipeline:\\n {prep}')\n",
        "print()\n",
        "print(f\"With hyperparameters:\\n{ranking_final.loc[0,'param']}\")"
      ],
      "outputs": [
        {
          "output_type": "stream",
          "name": "stdout",
          "text": [
            "Final model is a RandomForestClassifier\n",
            "\n",
            "With preprocessing pipeline:\n",
            " ColumnTransformer(n_jobs=None, remainder='drop', sparse_threshold=0.3,\n",
            "                  transformer_weights=None,\n",
            "                  transformers=[('conti',\n",
            "                                 Pipeline(memory=None,\n",
            "                                          steps=[('sca',\n",
            "                                                  StandardScaler(copy=True,\n",
            "                                                                 with_mean=True,\n",
            "                                                                 with_std=True)),\n",
            "                                                 ('imputer',\n",
            "                                                  SimpleImputer(add_indicator=False,\n",
            "                                                                copy=True,\n",
            "                                                                fill_value=None,\n",
            "                                                                missing_values=nan,\n",
            "                                                                strategy='median',\n",
            "                                                                verbose=0))],\n",
            "                                          verbose=False),\n",
            "                                 [1, 4, 5,...\n",
            "                                                                      inv_kw_args=None,\n",
            "                                                                      inverse_func=None,\n",
            "                                                                      kw_args=None,\n",
            "                                                                      validate=False)),\n",
            "                                                 ('imputer',\n",
            "                                                  SimpleImputer(add_indicator=False,\n",
            "                                                                copy=True,\n",
            "                                                                fill_value='unknown',\n",
            "                                                                missing_values=nan,\n",
            "                                                                strategy='constant',\n",
            "                                                                verbose=0)),\n",
            "                                                 ('encoder',\n",
            "                                                  OneHotEncoder(categories='auto',\n",
            "                                                                drop=None,\n",
            "                                                                dtype=<class 'numpy.float64'>,\n",
            "                                                                handle_unknown='ignore',\n",
            "                                                                sparse=True))],\n",
            "                                          verbose=False),\n",
            "                                 [0, 2, 3, 7, 9, 11, 13])],\n",
            "                  verbose=False)\n",
            "\n",
            "With hyperparameters:\n",
            "{'bootstrap': False, 'max_depth': 19, 'max_features': 0.1, 'max_leaf_nodes': 170, 'min_samples_split': 10, 'n_estimators': 300, 'n_jobs': -1}\n"
          ]
        }
      ],
      "metadata": {
        "id": "N9Wzng0RJeN9",
        "colab": {
          "base_uri": "https://localhost:8080/"
        },
        "outputId": "b4db1236-cb49-49a4-f6af-9b4f72e23637"
      }
    },
    {
      "cell_type": "code",
      "execution_count": null,
      "source": [
        "best_model.fit(X_train, y_train)"
      ],
      "outputs": [
        {
          "output_type": "execute_result",
          "data": {
            "text/plain": [
              "Pipeline(memory=None,\n",
              "         steps=[('prep',\n",
              "                 ColumnTransformer(n_jobs=None, remainder='drop',\n",
              "                                   sparse_threshold=0.3,\n",
              "                                   transformer_weights=None,\n",
              "                                   transformers=[('conti',\n",
              "                                                  Pipeline(memory=None,\n",
              "                                                           steps=[('sca',\n",
              "                                                                   StandardScaler(copy=True,\n",
              "                                                                                  with_mean=True,\n",
              "                                                                                  with_std=True)),\n",
              "                                                                  ('imputer',\n",
              "                                                                   SimpleImputer(add_indicator=False,\n",
              "                                                                                 copy=True,\n",
              "                                                                                 fill_value=None,\n",
              "                                                                                 missing_values=nan,\n",
              "                                                                                 strategy='median'...\n",
              "                 RandomForestClassifier(bootstrap=False, ccp_alpha=0.0,\n",
              "                                        class_weight=None, criterion='gini',\n",
              "                                        max_depth=19, max_features=0.1,\n",
              "                                        max_leaf_nodes=170, max_samples=None,\n",
              "                                        min_impurity_decrease=0.0,\n",
              "                                        min_impurity_split=None,\n",
              "                                        min_samples_leaf=1,\n",
              "                                        min_samples_split=10,\n",
              "                                        min_weight_fraction_leaf=0.0,\n",
              "                                        n_estimators=300, n_jobs=-1,\n",
              "                                        oob_score=False, random_state=None,\n",
              "                                        verbose=0, warm_start=False))],\n",
              "         verbose=False)"
            ]
          },
          "metadata": {
            "tags": []
          },
          "execution_count": 47
        }
      ],
      "metadata": {
        "id": "AofaPXetJeN9",
        "colab": {
          "base_uri": "https://localhost:8080/"
        },
        "outputId": "5f92e57e-2311-4444-92cf-ad17f5351835"
      }
    },
    {
      "cell_type": "markdown",
      "source": [
        "### Final evaluation on test set\n"
      ],
      "metadata": {
        "id": "KjA7EHYOJeN-"
      }
    },
    {
      "cell_type": "code",
      "execution_count": null,
      "source": [
        "y_pred = best_model.predict(X_test)"
      ],
      "outputs": [],
      "metadata": {
        "id": "6SuTQ8wmJeN-"
      }
    },
    {
      "cell_type": "code",
      "execution_count": null,
      "source": [
        "f1score = f1_score(y_test, y_pred)\n",
        "print(f'F1 score for prediction on test set is {f1score:.4f}')"
      ],
      "outputs": [
        {
          "output_type": "stream",
          "name": "stdout",
          "text": [
            "F1 score for prediction on test set is 0.8287\n"
          ]
        }
      ],
      "metadata": {
        "id": "7gsZuAN3JeN-",
        "colab": {
          "base_uri": "https://localhost:8080/"
        },
        "outputId": "9c119762-41f0-4da9-df91-9112e4ae07ba"
      }
    },
    {
      "cell_type": "code",
      "execution_count": null,
      "source": [
        "accuracy = accuracy_score(y_test, y_pred)\n",
        "print(f'Accuracy score for prediction on test set is {accuracy:.4f}')"
      ],
      "outputs": [
        {
          "output_type": "stream",
          "name": "stdout",
          "text": [
            "Accuracy score for prediction on test set is 0.8130\n"
          ]
        }
      ],
      "metadata": {
        "id": "0qN1ZCuuJeN-",
        "colab": {
          "base_uri": "https://localhost:8080/"
        },
        "outputId": "539a5054-7968-459d-aac4-e6b3e6787ee6"
      }
    },
    {
      "cell_type": "code",
      "execution_count": null,
      "source": [
        "r = permutation_importance(\n",
        "    best_model, X, y, scoring='f1', n_repeats=10, n_jobs=-1)"
      ],
      "outputs": [],
      "metadata": {
        "id": "ci3NbRwPJeN-"
      }
    },
    {
      "cell_type": "code",
      "execution_count": null,
      "source": [
        "for i in r.importances_mean.argsort()[::-1]:\n",
        "    if r.importances_mean[i] - 2 * r.importances_std[i] > 0:\n",
        "        print(f\"{X.columns[i]:<8}\"\n",
        "              f\"{r.importances_mean[i]:.3f}\"\n",
        "              f\" ± {r.importances_std[i]:.3f}\")"
      ],
      "outputs": [
        {
          "output_type": "stream",
          "name": "stdout",
          "text": [
            "cp      0.060 ± 0.007\n",
            "exang   0.044 ± 0.004\n",
            "slope   0.043 ± 0.007\n",
            "thal    0.026 ± 0.004\n",
            "from    0.024 ± 0.005\n",
            "restecg 0.022 ± 0.003\n",
            "chol    0.018 ± 0.003\n",
            "sex     0.018 ± 0.003\n",
            "age     0.017 ± 0.003\n",
            "thalach 0.014 ± 0.003\n",
            "trestbps0.012 ± 0.003\n",
            "ca      0.010 ± 0.002\n",
            "fbs     0.007 ± 0.001\n"
          ]
        }
      ],
      "metadata": {
        "id": "4L0RYvu3JeN-",
        "colab": {
          "base_uri": "https://localhost:8080/"
        },
        "outputId": "f20861d0-e602-4ab3-b3eb-c7183ad96008"
      }
    },
    {
      "cell_type": "markdown",
      "source": [
        "### Conclusion"
      ],
      "metadata": {
        "id": "Ahys6xUvJeOH"
      }
    },
    {
      "cell_type": "markdown",
      "source": [
        "Randomized hyperparameter search and bayesian optimization search are very useful to find decent hyperparameters quickly."
      ],
      "metadata": {
        "id": "3Rn9qZnoJeOH"
      }
    },
    {
      "cell_type": "markdown",
      "source": [
        "Tree ensembles are effective in tabular data prediction as it has plenty of mearsures to reduce overfit. And thet worked as expected in this project."
      ],
      "metadata": {
        "id": "kJAJffr8JeOH"
      }
    },
    {
      "cell_type": "markdown",
      "source": [
        "The final model is decent to help doctors to diagnose if a patient has heart disease or not.\n",
        "And it shows that CP (chest pain type) and EXANG (exercise induced angina (1 = yes; 0 = no)) are the first 2 important factors in the diagnosis."
      ],
      "metadata": {
        "id": "f1UIM_xWJeOH"
      }
    },
    {
      "cell_type": "markdown",
      "source": [
        "### Next steps"
      ],
      "metadata": {
        "id": "Tpt5ITFKJeOH"
      }
    },
    {
      "cell_type": "markdown",
      "source": [
        "Other ensembles such as Xgboost, catboost and lightgbm could be attempted in the future."
      ],
      "metadata": {
        "id": "Gxjj3y8RJeOH"
      }
    }
  ]
}